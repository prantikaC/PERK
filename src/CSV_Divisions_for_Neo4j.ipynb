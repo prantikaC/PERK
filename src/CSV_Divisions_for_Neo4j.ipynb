{
  "nbformat": 4,
  "nbformat_minor": 0,
  "metadata": {
    "colab": {
      "provenance": []
    },
    "kernelspec": {
      "name": "python3",
      "display_name": "Python 3"
    },
    "language_info": {
      "name": "python"
    }
  },
  "cells": [
    {
      "cell_type": "markdown",
      "source": [
        "#Imports"
      ],
      "metadata": {
        "id": "I7xSFZpc-VVA"
      }
    },
    {
      "cell_type": "code",
      "source": [
        "import csv\n",
        "import ast\n",
        "import os"
      ],
      "metadata": {
        "id": "Qgs19i5T-Yt2"
      },
      "execution_count": null,
      "outputs": []
    },
    {
      "cell_type": "markdown",
      "source": [
        "#File Paths"
      ],
      "metadata": {
        "id": "hIop1qAh-aMj"
      }
    },
    {
      "cell_type": "code",
      "source": [
        "# Input files\n",
        "ENTITIES_FILE = \"./Entities.csv\"\n",
        "RELATIONS_FILE = \"./Relations.csv\"\n",
        "\n",
        "# Output folder for Neo4j bulk CSVs\n",
        "OUTPUT_DIR = \"./CsvForNeo4j\"\n",
        "os.makedirs(OUTPUT_DIR, exist_ok=True)"
      ],
      "metadata": {
        "id": "3yjTRhYr-b-K"
      },
      "execution_count": null,
      "outputs": []
    },
    {
      "cell_type": "markdown",
      "source": [
        "# For entity type csv files\n"
      ],
      "metadata": {
        "id": "qcyKp_Ka_Czu"
      }
    },
    {
      "cell_type": "code",
      "source": [
        "def convert_entities():\n",
        "    with open(ENTITIES_FILE, \"r\") as f:\n",
        "        reader = csv.DictReader(f)\n",
        "        entities = list(reader)\n",
        "\n",
        "    # Group by type\n",
        "    grouped = {}\n",
        "    for row in entities:\n",
        "        eid = row[\"id\"]\n",
        "        etype = row[\"type\"]\n",
        "        props_str = row[\"properties\"]\n",
        "\n",
        "        try:\n",
        "            props = ast.literal_eval(props_str)\n",
        "        except Exception:\n",
        "            props = {}\n",
        "\n",
        "        if etype not in grouped:\n",
        "            grouped[etype] = []\n",
        "        grouped[etype].append((eid, props))\n",
        "\n",
        "    # Write one CSV per entity type\n",
        "    for etype, rows in grouped.items():\n",
        "        # Collect all property keys across rows\n",
        "        all_keys = set()\n",
        "        for _, props in rows:\n",
        "            all_keys.update(props.keys())\n",
        "\n",
        "        filename = os.path.join(OUTPUT_DIR, f\"{etype}.csv\")\n",
        "        with open(filename, \"w\", newline=\"\") as f:\n",
        "            writer = csv.writer(f)\n",
        "\n",
        "            # Header: :ID + all keys + :LABEL\n",
        "            header = [\":ID\"] + list(all_keys) + [\":LABEL\"]\n",
        "            writer.writerow(header)\n",
        "\n",
        "            for eid, props in rows:\n",
        "                row = [eid]\n",
        "                for k in all_keys:\n",
        "                    row.append(props.get(k, \"\"))\n",
        "                row.append(etype)\n",
        "                writer.writerow(row)"
      ],
      "metadata": {
        "id": "LtMWjxPDGNGP"
      },
      "execution_count": null,
      "outputs": []
    },
    {
      "cell_type": "markdown",
      "source": [
        "## For relation type csv files"
      ],
      "metadata": {
        "id": "ebYWawyYJ6k2"
      }
    },
    {
      "cell_type": "code",
      "source": [
        "def convert_relations():\n",
        "    with open(RELATIONS_FILE, \"r\") as f:\n",
        "        reader = csv.DictReader(f)\n",
        "        relations = list(reader)\n",
        "\n",
        "    # Group by relation type\n",
        "    grouped = {}\n",
        "    for row in relations:\n",
        "        start_id = row[\"start_id\"]\n",
        "        end_id = row[\"end_id\"]\n",
        "        rel = row[\"relation\"]\n",
        "\n",
        "        if rel not in grouped:\n",
        "            grouped[rel] = []\n",
        "        grouped[rel].append((start_id, end_id))\n",
        "\n",
        "    # Write one CSV per relationship type\n",
        "    for rel, rows in grouped.items():\n",
        "        filename = os.path.join(OUTPUT_DIR, f\"{rel}.csv\")\n",
        "        with open(filename, \"w\", newline=\"\") as f:\n",
        "            writer = csv.writer(f)\n",
        "            # Header: :START_ID,:END_ID,:TYPE\n",
        "            writer.writerow([\":START_ID\", \":END_ID\", \":TYPE\"])\n",
        "            for start_id, end_id in rows:\n",
        "                writer.writerow([start_id, end_id, rel])"
      ],
      "metadata": {
        "id": "0BTrjLuvJ8af"
      },
      "execution_count": null,
      "outputs": []
    },
    {
      "cell_type": "markdown",
      "source": [
        "#Final Conversion"
      ],
      "metadata": {
        "id": "KueeStW4_vs_"
      }
    },
    {
      "cell_type": "code",
      "source": [
        "def run_conversion():\n",
        "    print(\"Converting entities...\")\n",
        "    convert_entities()\n",
        "    print(\"Converting relations...\")\n",
        "    convert_relations()\n",
        "    print(f\"✅ Conversion complete. Files are in {OUTPUT_DIR}/\")\n",
        "\n",
        "# Call it directly\n",
        "run_conversion()\n"
      ],
      "metadata": {
        "colab": {
          "base_uri": "https://localhost:8080/"
        },
        "id": "uDi-laId_UIw",
        "outputId": "1d4a4917-8eaa-4ba5-dbde-df13acd32bce"
      },
      "execution_count": null,
      "outputs": [
        {
          "output_type": "stream",
          "name": "stdout",
          "text": [
            "Converting entities...\n",
            "Converting relations...\n",
            "✅ Conversion complete. Files are in /content/drive/MyDrive/PRKG/EmailKG/CsvForNeo4j_v2/\n"
          ]
        }
      ]
    },
    {
      "cell_type": "code",
      "source": [],
      "metadata": {
        "id": "qhebzRwL_xdO"
      },
      "execution_count": null,
      "outputs": []
    }
  ]
}