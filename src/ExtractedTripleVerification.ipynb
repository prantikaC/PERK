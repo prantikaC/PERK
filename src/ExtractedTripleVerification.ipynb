{
  "nbformat": 4,
  "nbformat_minor": 0,
  "metadata": {
    "colab": {
      "provenance": []
    },
    "kernelspec": {
      "name": "python3",
      "display_name": "Python 3"
    },
    "language_info": {
      "name": "python"
    }
  },
  "cells": [
    {
      "cell_type": "code",
      "execution_count": 1,
      "metadata": {
        "id": "I4JZhv0ciC8h"
      },
      "outputs": [],
      "source": [
        "import csv\n",
        "import ast"
      ]
    },
    {
      "cell_type": "markdown",
      "source": [
        "# Ontology Definitions\n"
      ],
      "metadata": {
        "id": "yDLWoUkSiagL"
      }
    },
    {
      "cell_type": "code",
      "source": [
        "# Object properties (relation type -> (start_node_type, [allowed_end_types]))\n",
        "ontology_relations = {\n",
        "    \"sentBy\": ([\"Email\"], [\"Person\", \"Journal\", \"Conference\"]),\n",
        "    \"receivedBy\": ([\"Email\"], [\"Person\"]),\n",
        "    \"hasAuthor\": ([\"Paper\"], [\"Person\"]),\n",
        "    \"identifies\": ([\"SubmissionID\"], [\"Paper\"]),\n",
        "    \"inVenue\": ([\"SubmissionID\"], [\"Conference\", \"Journal\"]),\n",
        "    \"mentions\": ([\"Email\"], [\"Dataset\", \"Method\", \"Metric\", \"Task\"]),\n",
        "    \"notifies\": ([\"Email\"], [\"Meeting\", \"SubmissionID\"]),\n",
        "    \"partOf\": ([\"Email\"], [\"MailThread\"]),\n",
        "    \"movesTo\": ([\"SubmissionID\", \"PaperStatus\"], [\"PaperStatus\"]),\n",
        "    \"usedFor\": ([\"Method\", \"Dataset\"], [\"Task\"]),\n",
        "    \"evaluates\": ([\"Metric\"], [\"Method\", \"Task\", \"Dataset\"]),\n",
        "    \"uses\": ([\"Method\"], [\"Datset\"])\n",
        "}"
      ],
      "metadata": {
        "id": "BsML9kD2iUkC"
      },
      "execution_count": 11,
      "outputs": []
    },
    {
      "cell_type": "markdown",
      "source": [
        "# Loading data"
      ],
      "metadata": {
        "id": "WfY4lq1xjQmY"
      }
    },
    {
      "cell_type": "code",
      "source": [
        "# Load Entities\n",
        "\n",
        "entity_file = \"./Entities.csv\"\n",
        "entity_types = {}      # id -> type\n",
        "#entity_properties = {} # id -> dict of properties\n",
        "\n",
        "with open(entity_file, \"r\", encoding=\"utf-8\") as f:\n",
        "    reader = csv.DictReader(f)\n",
        "    for row in reader:\n",
        "        eid = row[\"id\"]\n",
        "        etype = row[\"type\"]\n",
        "        if eid:\n",
        "            entity_types[eid] = etype\n"
      ],
      "metadata": {
        "id": "rB9wtLt8jJqi"
      },
      "execution_count": 12,
      "outputs": []
    },
    {
      "cell_type": "code",
      "source": [
        "# Load Relations\n",
        "\n",
        "relations_file = \"./Relations.csv\"\n",
        "triples = []\n",
        "with open(relations_file, \"r\", encoding=\"utf-8\") as f:\n",
        "    reader = csv.DictReader(f)\n",
        "    for row in reader:\n",
        "        start_id = row[\"start_id\"].strip()\n",
        "        end_id = row[\"end_id\"].strip()\n",
        "        rel_type = row[\"relation\"].strip()\n",
        "        triples.append((start_id, end_id, rel_type))"
      ],
      "metadata": {
        "id": "N8im45_ijl19"
      },
      "execution_count": 13,
      "outputs": []
    },
    {
      "cell_type": "markdown",
      "source": [
        "# Validation of triples"
      ],
      "metadata": {
        "id": "sI2HLSgRj10G"
      }
    },
    {
      "cell_type": "code",
      "source": [
        "invalid_triples = []\n",
        "\n",
        "for s_id, e_id, r_type in triples:\n",
        "    s_type = entity_types.get(s_id)\n",
        "    e_type = entity_types.get(e_id)\n",
        "\n",
        "    if r_type not in ontology_relations:\n",
        "        invalid_triples.append((s_id, e_id, r_type, \"Unknown relation type\"))\n",
        "        continue\n",
        "\n",
        "    allowed_starts, allowed_ends = ontology_relations[r_type]\n",
        "\n",
        "    # Start type check (now supports list of allowed types)\n",
        "    if s_type not in allowed_starts:\n",
        "        invalid_triples.append((s_id, e_id, r_type, f\"Invalid start type: {s_type}\"))\n",
        "\n",
        "    # End type check\n",
        "    if e_type not in allowed_ends:\n",
        "        invalid_triples.append((s_id, e_id, r_type, f\"Invalid end type: {e_type}\"))"
      ],
      "metadata": {
        "id": "kUuHkA0zj7GG"
      },
      "execution_count": 14,
      "outputs": []
    },
    {
      "cell_type": "markdown",
      "source": [
        "# Precision Calculation"
      ],
      "metadata": {
        "id": "HRLiejkUkCqF"
      }
    },
    {
      "cell_type": "code",
      "source": [
        "total_triples = len(triples)\n",
        "valid_triples = total_triples - len(invalid_triples)\n",
        "precision = valid_triples / total_triples if total_triples > 0 else 0\n",
        "\n",
        "# -------------------------\n",
        "# Reporting\n",
        "# -------------------------\n",
        "print(f\"Total triples: {total_triples}\")\n",
        "print(f\"Invalid triples: {len(invalid_triples)}\")\n",
        "print(f\"Precision: {precision:.2f}\")\n",
        "\n",
        "# Optional: show a few invalid triples\n",
        "if invalid_triples:\n",
        "    print(\"\\nSample invalid triples:\")\n",
        "    for t in invalid_triples[:10]:\n",
        "        print(t)"
      ],
      "metadata": {
        "colab": {
          "base_uri": "https://localhost:8080/"
        },
        "id": "-CUeDWs-kAf-",
        "outputId": "df0c0ba9-40af-4235-fa04-e197fe8d790d"
      },
      "execution_count": 15,
      "outputs": [
        {
          "output_type": "stream",
          "name": "stdout",
          "text": [
            "Total triples: 2413\n",
            "Invalid triples: 161\n",
            "Precision: 0.93\n",
            "\n",
            "Sample invalid triples:\n",
            "('e1', 'pa1', 'mentions', 'Invalid end type: Paper')\n",
            "('e11', 'pa1', 'mentions', 'Invalid end type: Paper')\n",
            "('e12', 'j1', 'mentions', 'Invalid end type: Journal')\n",
            "('e12', 'pa2', 'mentions', 'Invalid end type: Paper')\n",
            "('e14', 'pa1', 'mentions', 'Invalid end type: Paper')\n",
            "('e14', 'j1', 'mentions', 'Invalid end type: Journal')\n",
            "('e17', 'j1', 'mentions', 'Invalid end type: Journal')\n",
            "('e17', 'pa1', 'mentions', 'Invalid end type: Paper')\n",
            "('e19', 'j1', 'mentions', 'Invalid end type: Journal')\n",
            "('e19', 'pa1', 'mentions', 'Invalid end type: Paper')\n"
          ]
        }
      ]
    },
    {
      "cell_type": "code",
      "source": [],
      "metadata": {
        "id": "WYCmGQxwkH4k"
      },
      "execution_count": null,
      "outputs": []
    }
  ]
}