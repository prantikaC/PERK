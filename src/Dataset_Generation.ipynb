{
  "cells": [
    {
      "cell_type": "markdown",
      "source": [
        "# Setup"
      ],
      "metadata": {
        "id": "_cMDnj2mo-iP"
      }
    },
    {
      "cell_type": "code",
      "execution_count": null,
      "metadata": {
        "id": "EBKjrLbtw3hL"
      },
      "outputs": [],
      "source": [
        "import openai\n",
        "import os\n",
        "\n",
        "from openai import OpenAI"
      ]
    },
    {
      "cell_type": "code",
      "execution_count": null,
      "metadata": {
        "id": "fXSK3htAw3hM"
      },
      "outputs": [],
      "source": [
        "os.environ[\"OPENAI_API_KEY\"] =''"
      ]
    },
    {
      "cell_type": "code",
      "execution_count": null,
      "metadata": {
        "id": "C2mtstyrw3hN"
      },
      "outputs": [],
      "source": [
        "client = OpenAI()"
      ]
    },
    {
      "cell_type": "code",
      "execution_count": null,
      "metadata": {
        "id": "dAUuMcGrw3hN"
      },
      "outputs": [],
      "source": [
        "def get_prompt(email_text):\n",
        "    new_text_prompt = f'''\n",
        "    Your task is to generate an academic email following a specific pipeline, after looking at the list of previous 5 email\n",
        "    and determining the stage of the email in the pipeline.\n",
        "\n",
        "    The emails should be detailed and not small, and follow the chronological timeline from 1st April 2021 to 31st March 2025.\n",
        "    The emails will be between Sunita Sen (scholar.sunita@iacs.res.in) and her PhD supervisor\n",
        "    Prof. Ramesh Bhatia (ramesh.bhatia@iacs.res.in) from the Indian Association for the Cultivation of Science located at India,\n",
        "    and their collaborators abroad, including Dr. Michael Bradley (michael@cs.stanford.edu) at Stanford University, USA and\n",
        "    Dr. Ananya Chatterjee (ananya.chatterjee@cs.ox.ac.uk) at the University of Oxford, UK. They all work in the field of NLP on historical data.\n",
        "    The role of the mail sender should interchange between all 4 as required. Include personal emails between the researchers as well, not just group emails.\n",
        "    There may be more than one email cooresponding to a stage in the pipeline.\n",
        "\n",
        "    Additionally, Sunita shall also receive emails from conferences such as ACL, JCDL, EMNLP, and journals such as\n",
        "    ACM Journal on Computing and Cultural Heritage (JOCCH), and Journal of Documentation (JDoc) acknowledging paper submission and their\n",
        "    subsequent rejections, revisions, and acceptance.\n",
        "\n",
        "    The emails should follow the following pipeline:\n",
        "    i) Scientific discussions regarding a task including methods and datasets used to solve the task, and metrics used to evaluate the methods used.\n",
        "    ii) Organizing a meeting over Zoom or Google meet to discuss updates of the scientific work, along with legitimate Zoom/GMeet links.\n",
        "    iii) Documenting meeting minutes.\n",
        "    iv) Further discussions regarding improvement in the work and deciding whether to submit the work to a journal or a conference.\n",
        "    v) If submitted, mail from journal or conference acknowledging submission of the paper, assigning a submission ID for the paper.\n",
        "    vi) If submitted, mail from journal or conference informing decision of rejection or acceptance of the paper to the conference; or rejection, revision or\n",
        "    acceptance of the paper to the journal. The paper should have the same submission ID.\n",
        "    vii) In case of acceptance or revision, mail notifying final date for the submission of the camera-ready version of the paper.\n",
        "\n",
        "    Your task is to generate emails that fit into this pipeline, with detailed and specific content, maintaining a chronological order\n",
        "    and including unique alphanumeric thread numbers for a mail chain, as well as unique alphanumeric mail numbers for each email.\n",
        "    Remember to incorporate the specific details and recipients mentioned above as part of the email correspondence.\n",
        "    Do not generate any extra text other than emails.\n",
        "\n",
        "    The list of previous 5 email is {email_text}.\n",
        "\n",
        "    '''\n",
        "    return new_text_prompt"
      ]
    },
    {
      "cell_type": "markdown",
      "source": [
        "# Mail Generation"
      ],
      "metadata": {
        "id": "zI1-LJdypB1H"
      }
    },
    {
      "cell_type": "code",
      "execution_count": null,
      "metadata": {
        "id": "U6pz8wNTw3hO"
      },
      "outputs": [],
      "source": [
        "def generate_email(prompt):\n",
        "\n",
        "    response = client.chat.completions.create(\n",
        "        model=\"gpt-4o\",\n",
        "        messages=[\n",
        "            {\"role\": \"system\", \"content\": \"You are a helpful NLP assistant\"},\n",
        "            {\"role\": \"user\", \"content\": prompt}\n",
        "        ]\n",
        "    )\n",
        "\n",
        "    email_content =  response.choices[0].message.content\n",
        "    return email_content"
      ]
    },
    {
      "cell_type": "code",
      "execution_count": null,
      "metadata": {
        "id": "KG-5Chfow3hP"
      },
      "outputs": [],
      "source": [
        "def create_email_dataset(num_emails, email_into_list):\n",
        "    for i in range(num_emails):\n",
        "        email_text = email_into_list[-5:]\n",
        "        email_prompt = get_prompt(email_text)\n",
        "        new_email = generate_email(email_prompt)\n",
        "        email_into_list.append(new_email)\n",
        "    return email_into_list"
      ]
    },
    {
      "cell_type": "code",
      "execution_count": null,
      "metadata": {
        "id": "wcSjr5fiw3hP"
      },
      "outputs": [],
      "source": [
        "#function to look at last 5 emails\n",
        "\n",
        "def create_email_dataset(num_emails, email_into_list):\n",
        "    for i in range(num_emails):\n",
        "        email_text = email_into_list[-5:]\n",
        "        email_prompt = get_prompt(email_text)\n",
        "        new_email = generate_email(email_prompt)\n",
        "        email_into_list.append(new_email)\n",
        "    return email_into_list"
      ]
    },
    {
      "cell_type": "code",
      "execution_count": null,
      "metadata": {
        "id": "OVEUlnAew3hQ"
      },
      "outputs": [],
      "source": [
        "def save_emails_to_file(emails, filename):\n",
        "    with open(filename, 'w') as f:\n",
        "        for email in emails:\n",
        "            f.write(email + \"**EMAIL_END**\")  # Separate emails"
      ]
    },
    {
      "cell_type": "code",
      "execution_count": null,
      "metadata": {
        "id": "5iN6MPpEw3hQ"
      },
      "outputs": [],
      "source": [
        "dataset_file = \"./PATRA_v1.txt\"\n",
        "email_list = []\n",
        "email_dataset = open(dataset_file, \"r\")\n",
        "email_data = email_dataset.read()\n",
        "\n",
        "email_into_list = email_data.split(\"**EMAIL_END**\")\n",
        "#print(data_into_list)\n",
        "email_dataset.close()\n",
        "\n",
        "num_emails = 250  # Specify the number of emails you want to generate\n",
        "emails = create_email_dataset(num_emails, email_into_list)\n",
        "save_emails_to_file(emails, dataset_file)\n",
        "print(f\"Generated {num_emails} emails and saved to {dataset_file}\")"
      ]
    },
    {
      "cell_type": "code",
      "execution_count": null,
      "metadata": {
        "id": "FCTBwTybw3hS"
      },
      "outputs": [],
      "source": []
    }
  ],
  "metadata": {
    "kernelspec": {
      "display_name": "Python 3 (ipykernel)",
      "language": "python",
      "name": "python3"
    },
    "language_info": {
      "codemirror_mode": {
        "name": "ipython",
        "version": 3
      },
      "file_extension": ".py",
      "mimetype": "text/x-python",
      "name": "python",
      "nbconvert_exporter": "python",
      "pygments_lexer": "ipython3",
      "version": "3.12.9"
    },
    "colab": {
      "provenance": []
    }
  },
  "nbformat": 4,
  "nbformat_minor": 0
}